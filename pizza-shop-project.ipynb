{
 "cells": [
  {
   "cell_type": "markdown",
   "id": "32ab8772",
   "metadata": {},
   "source": [
    "# 1 - Importing required libraries"
   ]
  },
  {
   "cell_type": "code",
   "execution_count": 1,
   "id": "3d6136d6",
   "metadata": {},
   "outputs": [],
   "source": [
    "import csv\n",
    "import datetime"
   ]
  },
  {
   "cell_type": "markdown",
   "id": "9fa5b1ab",
   "metadata": {},
   "source": [
    "# 3- Creating Pizza superclass"
   ]
  },
  {
   "cell_type": "code",
   "execution_count": null,
   "id": "2d0ff958",
   "metadata": {},
   "outputs": [],
   "source": [
    "class Pizza:\n",
    "    def __init__(self, description, cost):\n",
    "        self.description = description\n",
    "        self.cost = cost\n",
    "\n",
    "    def get_description(self):\n",
    "        return self.description\n",
    "\n",
    "    def get_cost(self):\n",
    "        return self.cost"
   ]
  },
  {
   "cell_type": "markdown",
   "id": "9fa5b1ab",
   "metadata": {},
   "source": [
    "# 4- Creating other subclasses which is kind of Pizzas"
   ]
  },
  {
   "cell_type": "code",
   "execution_count": null,
   "id": "a7c54e4a",
   "metadata": {},
   "outputs": [],
   "source": [
    "class ClassicCheesePizza(Pizza):\n",
    "    def __init__(self):\n",
    "        description = \"Gorgonzola, Provolone, Ricotta and Parmesan\"\n",
    "        cost = 20.0\n",
    "        super().__init__(description, cost)\n",
    "\n",
    "\n",
    "class MargheritaPizza(Pizza):\n",
    "    def __init__(self):\n",
    "        description = \"Tomatoes, Mozzarella, Basil, Olive oil\"\n",
    "        cost = 25.0\n",
    "        super().__init__(description, cost)\n",
    "\n",
    "\n",
    "class TurkishPizza(Pizza):\n",
    "    def __init__(self):\n",
    "        description = \"Cheddar, Onion, Sausage, Pastrami, Green Pepper, Tomato.\"\n",
    "        cost = 30.0\n",
    "        super().__init__(description, cost)\n",
    "\n",
    "\n",
    "class SarimsakSosluSucukseverPizza(Pizza):\n",
    "    def __init__(self):\n",
    "        description = \"Mozzarella, Sausage, Garlic sauce\"\n",
    "        cost = 35.0\n",
    "        super().__init__(description, cost)"
   ]
  }
 ],
 "metadata": {
  "kernelspec": {
   "display_name": "Python 3 (ipykernel)",
   "language": "python",
   "name": "python3"
  },
  "language_info": {
   "codemirror_mode": {
    "name": "ipython",
    "version": 3
   },
   "file_extension": ".py",
   "mimetype": "text/x-python",
   "name": "python",
   "nbconvert_exporter": "python",
   "pygments_lexer": "ipython3",
   "version": "3.9.13"
  }
 },
 "nbformat": 4,
 "nbformat_minor": 5
}
