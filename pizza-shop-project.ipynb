{
 "cells": [
  {
   "cell_type": "markdown",
   "id": "7ab09b5d",
   "metadata": {},
   "source": [
    "# Importing required libraries"
   ]
  },
  {
   "cell_type": "code",
   "execution_count": 1,
   "id": "b932da22",
   "metadata": {},
   "outputs": [],
   "source": [
    "import csv\n",
    "import datetime"
   ]
  },
  {
   "cell_type": "code",
   "execution_count": null,
   "id": "406e4967",
   "metadata": {},
   "outputs": [],
   "source": [
    "class Pizza:\n",
    "    def __init__(self, description, cost):\n",
    "        self.description = description\n",
    "        self.cost = cost\n",
    "\n",
    "    def get_description(self):\n",
    "        return self.description\n",
    "\n",
    "    def get_cost(self):\n",
    "        return self.cost\n",
    "\n",
    "\n",
    "class ClassicPizza(Pizza):\n",
    "    def __init__(self):\n",
    "        description = \"Klasik Pizza\"\n",
    "        cost = 20.0\n",
    "        super().__init__(description, cost)\n",
    "\n",
    "\n",
    "class MargheritaPizza(Pizza):\n",
    "    def __init__(self):\n",
    "        description = \"Margherita Pizza\"\n",
    "        cost = 25.0\n",
    "        super().__init__(description, cost)\n",
    "\n",
    "\n",
    "class TurkishPizza(Pizza):\n",
    "    def __init__(self):\n",
    "        description = \"Türk Pizza\"\n",
    "        cost = 30.0\n",
    "        super().__init__(description, cost)\n",
    "\n",
    "\n",
    "class SarimsakSosluSucukseverPizza(Pizza):\n",
    "    def __init__(self):\n",
    "        description = \"Sarımsak Soslu Sucuksever Pizza\"\n",
    "        cost = 35.0\n",
    "        super().__init__(description, cost)"
   ]
  }
 ],
 "metadata": {
  "kernelspec": {
   "display_name": "Python 3 (ipykernel)",
   "language": "python",
   "name": "python3"
  },
  "language_info": {
   "codemirror_mode": {
    "name": "ipython",
    "version": 3
   },
   "file_extension": ".py",
   "mimetype": "text/x-python",
   "name": "python",
   "nbconvert_exporter": "python",
   "pygments_lexer": "ipython3",
   "version": "3.9.13"
  }
 },
 "nbformat": 4,
 "nbformat_minor": 5
}
